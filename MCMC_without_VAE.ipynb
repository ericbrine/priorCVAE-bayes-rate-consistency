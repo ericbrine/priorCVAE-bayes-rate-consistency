{
  "nbformat": 4,
  "nbformat_minor": 0,
  "metadata": {
    "colab": {
      "provenance": []
    },
    "kernelspec": {
      "name": "python3",
      "display_name": "Python 3"
    },
    "language_info": {
      "name": "python"
    }
  },
  "cells": [
    {
      "cell_type": "code",
      "execution_count": null,
      "metadata": {
        "colab": {
          "base_uri": "https://localhost:8080/"
        },
        "id": "NhgdcehG9NaO",
        "outputId": "282f590f-1fa1-4eae-c9e4-39971c03858f"
      },
      "outputs": [
        {
          "output_type": "stream",
          "name": "stdout",
          "text": [
            "\n",
            "Generating public/private rsa key pair.\n",
            "Enter file in which to save the key (/root/.ssh/id_rsa): /root/.ssh/id_rsa already exists.\n",
            "Overwrite (y/n)? n\n"
          ]
        }
      ],
      "source": [
        "!ssh-keygen -t rsa -b 4096"
      ]
    },
    {
      "cell_type": "code",
      "source": [
        "!ssh-keyscan -t rsa github.com >> ~/.ssh/known_hosts"
      ],
      "metadata": {
        "colab": {
          "base_uri": "https://localhost:8080/"
        },
        "id": "fJEP3JIG9WVk",
        "outputId": "80f6abd7-8864-466e-b200-95a27ecdc208"
      },
      "execution_count": null,
      "outputs": [
        {
          "output_type": "stream",
          "name": "stdout",
          "text": [
            "# github.com:22 SSH-2.0-babeld-d815c248\n"
          ]
        }
      ]
    },
    {
      "cell_type": "code",
      "source": [
        "!cat /root/.ssh/id_rsa.pub"
      ],
      "metadata": {
        "colab": {
          "base_uri": "https://localhost:8080/"
        },
        "id": "vPOPE9dB9jmw",
        "outputId": "619f7991-abc4-4a6b-e248-5a522c7516e5"
      },
      "execution_count": null,
      "outputs": [
        {
          "output_type": "stream",
          "name": "stdout",
          "text": [
            "ssh-rsa AAAAB3NzaC1yc2EAAAADAQABAAACAQC9Jr3sYhuXKfNe0m/AA5GSMM8/qBL7NXjsdW+5qzbCxltQqX+BUgsIhWqoBTofPcifDXOVKQ+PQoaCG0hdNmKBBcy9nNtOd3cssuGep/ihpV/iH4Cr0fzjlG1el4qwDR1XCSo1OZMUnWVmXfBNg4H+f6jLLFzitNkV6dWGj63Ky3sCf9se0IgUPNYteAL9JqpPh6GAJaE4Pde1g89vwFoaE/BfO8anOsV1Tjn5T+SXm1wkgDWqzA/SEhySpYGY/BGVGT4tVD/aHOSf8Cu0d1aBTMTpqCTIckYms7E1M8YAT8YjP+P1l+Vn+V5YokcQ1ZyJCTccw0a/MRjre9GeNQ0r1fpIoQErB6mX63/av8TNceTc0o8wDYnPnTwkZapD3ylMb3sjqvOhdFPwqn/xwFg0/i+X2+H2PkxLKImml9BkmTdU+GL1N+xdwe/UjJuxUass7cJqM6G6ekQxPvKf0xrW3L1IKOoZTaAhfxuWpWuIFJ6UGXwEQKz/RZkjM8AfyCLWTmIcKPjXrCljnFYUdDLe/3kX70VUTSDdeyLGdMFqVn7hLGe2nl44c7/+YY6555NEhaUy93M1rnWXEc1XcWGMy3W75zhqFx7rJbJrRhsgzg7HnYTHY4KtXTb4hghKO1Y15baosyyzb8XV6lvFqTPDIMEjdxMM1AytqQvnrtVa+w== root@a520257ad1be\n"
          ]
        }
      ]
    },
    {
      "cell_type": "code",
      "source": [
        "!ssh -T git@github.com"
      ],
      "metadata": {
        "colab": {
          "base_uri": "https://localhost:8080/"
        },
        "id": "giy1ewkw9sNO",
        "outputId": "ef351aff-0bb1-409d-abc2-72d0abaff333"
      },
      "execution_count": null,
      "outputs": [
        {
          "output_type": "stream",
          "name": "stdout",
          "text": [
            "Hi Soccolo! You've successfully authenticated, but GitHub does not provide shell access.\n"
          ]
        }
      ]
    },
    {
      "cell_type": "code",
      "source": [
        "!git clone git@github.com:elizavetasemenova/PriorCVAE_JAX.git"
      ],
      "metadata": {
        "colab": {
          "base_uri": "https://localhost:8080/"
        },
        "id": "66kyXgmB-cbW",
        "outputId": "afdb45af-5d55-42bc-b527-72debb4ee701"
      },
      "execution_count": null,
      "outputs": [
        {
          "output_type": "stream",
          "name": "stdout",
          "text": [
            "Cloning into 'PriorCVAE_JAX'...\n",
            "remote: Enumerating objects: 1003, done.\u001b[K\n",
            "remote: Counting objects: 100% (197/197), done.\u001b[K\n",
            "remote: Compressing objects: 100% (107/107), done.\u001b[K\n",
            "remote: Total 1003 (delta 109), reused 136 (delta 87), pack-reused 806\u001b[K\n",
            "Receiving objects: 100% (1003/1003), 11.85 MiB | 26.67 MiB/s, done.\n",
            "Resolving deltas: 100% (463/463), done.\n"
          ]
        }
      ]
    },
    {
      "cell_type": "code",
      "source": [
        "!git clone git@github.com:Soccolo/GPVAE.git"
      ],
      "metadata": {
        "colab": {
          "base_uri": "https://localhost:8080/"
        },
        "id": "PPUpyt4qcB8O",
        "outputId": "60c37bfc-4c3a-453b-d777-404223aa99db"
      },
      "execution_count": null,
      "outputs": [
        {
          "output_type": "stream",
          "name": "stdout",
          "text": [
            "Cloning into 'GPVAE'...\n",
            "remote: Enumerating objects: 157, done.\u001b[K\n",
            "remote: Counting objects: 100% (26/26), done.\u001b[K\n",
            "remote: Compressing objects: 100% (26/26), done.\u001b[K\n",
            "remote: Total 157 (delta 10), reused 0 (delta 0), pack-reused 131\u001b[K\n",
            "Receiving objects: 100% (157/157), 26.93 MiB | 7.71 MiB/s, done.\n",
            "Resolving deltas: 100% (19/19), done.\n"
          ]
        }
      ]
    },
    {
      "cell_type": "code",
      "source": [
        "!pip install -r requirements.txt"
      ],
      "metadata": {
        "colab": {
          "base_uri": "https://localhost:8080/",
          "height": 1000
        },
        "id": "x36IJpXk_EGM",
        "outputId": "dd105378-c956-4920-9341-c1a69523acd9"
      },
      "execution_count": null,
      "outputs": [
        {
          "output_type": "stream",
          "name": "stdout",
          "text": [
            "Collecting jax==0.4.13 (from -r requirements.txt (line 1))\n",
            "  Downloading jax-0.4.13.tar.gz (1.3 MB)\n",
            "\u001b[2K     \u001b[90m━━━━━━━━━━━━━━━━━━━━━━━━━━━━━━━━━━━━━━━━\u001b[0m \u001b[32m1.3/1.3 MB\u001b[0m \u001b[31m7.0 MB/s\u001b[0m eta \u001b[36m0:00:00\u001b[0m\n",
            "\u001b[?25h  Installing build dependencies ... \u001b[?25l\u001b[?25hdone\n",
            "  Getting requirements to build wheel ... \u001b[?25l\u001b[?25hdone\n",
            "  Preparing metadata (pyproject.toml) ... \u001b[?25l\u001b[?25hdone\n",
            "Collecting jaxlib==0.4.13 (from -r requirements.txt (line 2))\n",
            "  Downloading jaxlib-0.4.13-cp310-cp310-manylinux2014_x86_64.whl (71.6 MB)\n",
            "\u001b[2K     \u001b[90m━━━━━━━━━━━━━━━━━━━━━━━━━━━━━━━━━━━━━━━━\u001b[0m \u001b[32m71.6/71.6 MB\u001b[0m \u001b[31m9.7 MB/s\u001b[0m eta \u001b[36m0:00:00\u001b[0m\n",
            "\u001b[?25hCollecting numpyro==0.12.1 (from -r requirements.txt (line 3))\n",
            "  Downloading numpyro-0.12.1-py3-none-any.whl (304 kB)\n",
            "\u001b[2K     \u001b[90m━━━━━━━━━━━━━━━━━━━━━━━━━━━━━━━━━━━━━━\u001b[0m \u001b[32m304.6/304.6 kB\u001b[0m \u001b[31m24.7 MB/s\u001b[0m eta \u001b[36m0:00:00\u001b[0m\n",
            "\u001b[?25hCollecting flax==0.6.11 (from -r requirements.txt (line 4))\n",
            "  Downloading flax-0.6.11-py3-none-any.whl (227 kB)\n",
            "\u001b[2K     \u001b[90m━━━━━━━━━━━━━━━━━━━━━━━━━━━━━━━━━━━━━━\u001b[0m \u001b[32m227.2/227.2 kB\u001b[0m \u001b[31m21.4 MB/s\u001b[0m eta \u001b[36m0:00:00\u001b[0m\n",
            "\u001b[?25hCollecting optax==0.1.5 (from -r requirements.txt (line 5))\n",
            "  Downloading optax-0.1.5-py3-none-any.whl (164 kB)\n",
            "\u001b[2K     \u001b[90m━━━━━━━━━━━━━━━━━━━━━━━━━━━━━━━━━━━━━━\u001b[0m \u001b[32m164.6/164.6 kB\u001b[0m \u001b[31m12.4 MB/s\u001b[0m eta \u001b[36m0:00:00\u001b[0m\n",
            "\u001b[?25hRequirement already satisfied: torch==2.0.1 in /usr/local/lib/python3.10/dist-packages (from -r requirements.txt (line 6)) (2.0.1+cu118)\n",
            "Collecting jupyter==1.0.0 (from -r requirements.txt (line 7))\n",
            "  Downloading jupyter-1.0.0-py2.py3-none-any.whl (2.7 kB)\n",
            "Requirement already satisfied: matplotlib==3.7.1 in /usr/local/lib/python3.10/dist-packages (from -r requirements.txt (line 8)) (3.7.1)\n",
            "Collecting orbax-checkpoint==0.2.7 (from -r requirements.txt (line 9))\n",
            "  Downloading orbax_checkpoint-0.2.7-py3-none-any.whl (91 kB)\n",
            "\u001b[2K     \u001b[90m━━━━━━━━━━━━━━━━━━━━━━━━━━━━━━━━━━━━━━━━\u001b[0m \u001b[32m91.3/91.3 kB\u001b[0m \u001b[31m7.7 MB/s\u001b[0m eta \u001b[36m0:00:00\u001b[0m\n",
            "\u001b[?25hRequirement already satisfied: geopandas==0.13.2 in /usr/local/lib/python3.10/dist-packages (from -r requirements.txt (line 10)) (0.13.2)\n",
            "Collecting numpy==1.25.1 (from -r requirements.txt (line 11))\n",
            "  Downloading numpy-1.25.1-cp310-cp310-manylinux_2_17_x86_64.manylinux2014_x86_64.whl (17.6 MB)\n",
            "\u001b[2K     \u001b[90m━━━━━━━━━━━━━━━━━━━━━━━━━━━━━━━━━━━━━━━━\u001b[0m \u001b[32m17.6/17.6 MB\u001b[0m \u001b[31m58.0 MB/s\u001b[0m eta \u001b[36m0:00:00\u001b[0m\n",
            "\u001b[?25hCollecting dill==0.3.6 (from -r requirements.txt (line 12))\n",
            "  Downloading dill-0.3.6-py3-none-any.whl (110 kB)\n",
            "\u001b[2K     \u001b[90m━━━━━━━━━━━━━━━━━━━━━━━━━━━━━━━━━━━━━━\u001b[0m \u001b[32m110.5/110.5 kB\u001b[0m \u001b[31m11.6 MB/s\u001b[0m eta \u001b[36m0:00:00\u001b[0m\n",
            "\u001b[?25hCollecting arviz==0.16.1 (from -r requirements.txt (line 13))\n",
            "  Downloading arviz-0.16.1-py3-none-any.whl (1.7 MB)\n",
            "\u001b[2K     \u001b[90m━━━━━━━━━━━━━━━━━━━━━━━━━━━━━━━━━━━━━━━━\u001b[0m \u001b[32m1.7/1.7 MB\u001b[0m \u001b[31m52.8 MB/s\u001b[0m eta \u001b[36m0:00:00\u001b[0m\n",
            "\u001b[?25hRequirement already satisfied: ml-dtypes>=0.1.0 in /usr/local/lib/python3.10/dist-packages (from jax==0.4.13->-r requirements.txt (line 1)) (0.2.0)\n",
            "Requirement already satisfied: opt-einsum in /usr/local/lib/python3.10/dist-packages (from jax==0.4.13->-r requirements.txt (line 1)) (3.3.0)\n",
            "Requirement already satisfied: scipy>=1.7 in /usr/local/lib/python3.10/dist-packages (from jax==0.4.13->-r requirements.txt (line 1)) (1.10.1)\n",
            "Requirement already satisfied: multipledispatch in /usr/local/lib/python3.10/dist-packages (from numpyro==0.12.1->-r requirements.txt (line 3)) (1.0.0)\n",
            "Requirement already satisfied: tqdm in /usr/local/lib/python3.10/dist-packages (from numpyro==0.12.1->-r requirements.txt (line 3)) (4.66.0)\n",
            "Requirement already satisfied: msgpack in /usr/local/lib/python3.10/dist-packages (from flax==0.6.11->-r requirements.txt (line 4)) (1.0.5)\n",
            "Requirement already satisfied: tensorstore in /usr/local/lib/python3.10/dist-packages (from flax==0.6.11->-r requirements.txt (line 4)) (0.1.41)\n",
            "Requirement already satisfied: rich>=11.1 in /usr/local/lib/python3.10/dist-packages (from flax==0.6.11->-r requirements.txt (line 4)) (13.5.2)\n",
            "Requirement already satisfied: typing-extensions>=4.1.1 in /usr/local/lib/python3.10/dist-packages (from flax==0.6.11->-r requirements.txt (line 4)) (4.7.1)\n",
            "Requirement already satisfied: PyYAML>=5.4.1 in /usr/local/lib/python3.10/dist-packages (from flax==0.6.11->-r requirements.txt (line 4)) (6.0.1)\n",
            "Requirement already satisfied: absl-py>=0.7.1 in /usr/local/lib/python3.10/dist-packages (from optax==0.1.5->-r requirements.txt (line 5)) (1.4.0)\n",
            "Requirement already satisfied: chex>=0.1.5 in /usr/local/lib/python3.10/dist-packages (from optax==0.1.5->-r requirements.txt (line 5)) (0.1.7)\n",
            "Requirement already satisfied: filelock in /usr/local/lib/python3.10/dist-packages (from torch==2.0.1->-r requirements.txt (line 6)) (3.12.2)\n",
            "Requirement already satisfied: sympy in /usr/local/lib/python3.10/dist-packages (from torch==2.0.1->-r requirements.txt (line 6)) (1.12)\n",
            "Requirement already satisfied: networkx in /usr/local/lib/python3.10/dist-packages (from torch==2.0.1->-r requirements.txt (line 6)) (3.1)\n",
            "Requirement already satisfied: jinja2 in /usr/local/lib/python3.10/dist-packages (from torch==2.0.1->-r requirements.txt (line 6)) (3.1.2)\n",
            "Requirement already satisfied: triton==2.0.0 in /usr/local/lib/python3.10/dist-packages (from torch==2.0.1->-r requirements.txt (line 6)) (2.0.0)\n",
            "Requirement already satisfied: notebook in /usr/local/lib/python3.10/dist-packages (from jupyter==1.0.0->-r requirements.txt (line 7)) (6.4.8)\n",
            "Collecting qtconsole (from jupyter==1.0.0->-r requirements.txt (line 7))\n",
            "  Downloading qtconsole-5.4.3-py3-none-any.whl (121 kB)\n",
            "\u001b[2K     \u001b[90m━━━━━━━━━━━━━━━━━━━━━━━━━━━━━━━━━━━━━━\u001b[0m \u001b[32m121.9/121.9 kB\u001b[0m \u001b[31m12.2 MB/s\u001b[0m eta \u001b[36m0:00:00\u001b[0m\n",
            "\u001b[?25hRequirement already satisfied: jupyter-console in /usr/local/lib/python3.10/dist-packages (from jupyter==1.0.0->-r requirements.txt (line 7)) (6.1.0)\n",
            "Requirement already satisfied: nbconvert in /usr/local/lib/python3.10/dist-packages (from jupyter==1.0.0->-r requirements.txt (line 7)) (6.5.4)\n",
            "Requirement already satisfied: ipykernel in /usr/local/lib/python3.10/dist-packages (from jupyter==1.0.0->-r requirements.txt (line 7)) (5.5.6)\n",
            "Requirement already satisfied: ipywidgets in /usr/local/lib/python3.10/dist-packages (from jupyter==1.0.0->-r requirements.txt (line 7)) (7.7.1)\n",
            "Requirement already satisfied: contourpy>=1.0.1 in /usr/local/lib/python3.10/dist-packages (from matplotlib==3.7.1->-r requirements.txt (line 8)) (1.1.0)\n",
            "Requirement already satisfied: cycler>=0.10 in /usr/local/lib/python3.10/dist-packages (from matplotlib==3.7.1->-r requirements.txt (line 8)) (0.11.0)\n",
            "Requirement already satisfied: fonttools>=4.22.0 in /usr/local/lib/python3.10/dist-packages (from matplotlib==3.7.1->-r requirements.txt (line 8)) (4.42.0)\n",
            "Requirement already satisfied: kiwisolver>=1.0.1 in /usr/local/lib/python3.10/dist-packages (from matplotlib==3.7.1->-r requirements.txt (line 8)) (1.4.4)\n",
            "Requirement already satisfied: packaging>=20.0 in /usr/local/lib/python3.10/dist-packages (from matplotlib==3.7.1->-r requirements.txt (line 8)) (23.1)\n",
            "Requirement already satisfied: pillow>=6.2.0 in /usr/local/lib/python3.10/dist-packages (from matplotlib==3.7.1->-r requirements.txt (line 8)) (9.4.0)\n",
            "Requirement already satisfied: pyparsing>=2.3.1 in /usr/local/lib/python3.10/dist-packages (from matplotlib==3.7.1->-r requirements.txt (line 8)) (3.1.1)\n",
            "Requirement already satisfied: python-dateutil>=2.7 in /usr/local/lib/python3.10/dist-packages (from matplotlib==3.7.1->-r requirements.txt (line 8)) (2.8.2)\n",
            "Requirement already satisfied: etils[epath,epy] in /usr/local/lib/python3.10/dist-packages (from orbax-checkpoint==0.2.7->-r requirements.txt (line 9)) (1.4.1)\n",
            "Requirement already satisfied: nest_asyncio in /usr/local/lib/python3.10/dist-packages (from orbax-checkpoint==0.2.7->-r requirements.txt (line 9)) (1.5.7)\n",
            "Requirement already satisfied: protobuf in /usr/local/lib/python3.10/dist-packages (from orbax-checkpoint==0.2.7->-r requirements.txt (line 9)) (3.20.3)\n",
            "Requirement already satisfied: fiona>=1.8.19 in /usr/local/lib/python3.10/dist-packages (from geopandas==0.13.2->-r requirements.txt (line 10)) (1.9.4.post1)\n",
            "Requirement already satisfied: pandas>=1.1.0 in /usr/local/lib/python3.10/dist-packages (from geopandas==0.13.2->-r requirements.txt (line 10)) (1.5.3)\n",
            "Requirement already satisfied: pyproj>=3.0.1 in /usr/local/lib/python3.10/dist-packages (from geopandas==0.13.2->-r requirements.txt (line 10)) (3.6.0)\n",
            "Requirement already satisfied: shapely>=1.7.1 in /usr/local/lib/python3.10/dist-packages (from geopandas==0.13.2->-r requirements.txt (line 10)) (2.0.1)\n",
            "Requirement already satisfied: setuptools>=60.0.0 in /usr/local/lib/python3.10/dist-packages (from arviz==0.16.1->-r requirements.txt (line 13)) (67.7.2)\n",
            "Requirement already satisfied: xarray>=0.21.0 in /usr/local/lib/python3.10/dist-packages (from arviz==0.16.1->-r requirements.txt (line 13)) (2023.7.0)\n",
            "Requirement already satisfied: h5netcdf>=1.0.2 in /usr/local/lib/python3.10/dist-packages (from arviz==0.16.1->-r requirements.txt (line 13)) (1.2.0)\n",
            "Requirement already satisfied: xarray-einstats>=0.3 in /usr/local/lib/python3.10/dist-packages (from arviz==0.16.1->-r requirements.txt (line 13)) (0.6.0)\n",
            "Requirement already satisfied: cmake in /usr/local/lib/python3.10/dist-packages (from triton==2.0.0->torch==2.0.1->-r requirements.txt (line 6)) (3.27.1)\n",
            "Requirement already satisfied: lit in /usr/local/lib/python3.10/dist-packages (from triton==2.0.0->torch==2.0.1->-r requirements.txt (line 6)) (16.0.6)\n",
            "Requirement already satisfied: dm-tree>=0.1.5 in /usr/local/lib/python3.10/dist-packages (from chex>=0.1.5->optax==0.1.5->-r requirements.txt (line 5)) (0.1.8)\n",
            "Requirement already satisfied: toolz>=0.9.0 in /usr/local/lib/python3.10/dist-packages (from chex>=0.1.5->optax==0.1.5->-r requirements.txt (line 5)) (0.12.0)\n",
            "Requirement already satisfied: attrs>=19.2.0 in /usr/local/lib/python3.10/dist-packages (from fiona>=1.8.19->geopandas==0.13.2->-r requirements.txt (line 10)) (23.1.0)\n",
            "Requirement already satisfied: certifi in /usr/local/lib/python3.10/dist-packages (from fiona>=1.8.19->geopandas==0.13.2->-r requirements.txt (line 10)) (2023.7.22)\n",
            "Requirement already satisfied: click~=8.0 in /usr/local/lib/python3.10/dist-packages (from fiona>=1.8.19->geopandas==0.13.2->-r requirements.txt (line 10)) (8.1.6)\n",
            "Requirement already satisfied: click-plugins>=1.0 in /usr/local/lib/python3.10/dist-packages (from fiona>=1.8.19->geopandas==0.13.2->-r requirements.txt (line 10)) (1.1.1)\n",
            "Requirement already satisfied: cligj>=0.5 in /usr/local/lib/python3.10/dist-packages (from fiona>=1.8.19->geopandas==0.13.2->-r requirements.txt (line 10)) (0.7.2)\n",
            "Requirement already satisfied: six in /usr/local/lib/python3.10/dist-packages (from fiona>=1.8.19->geopandas==0.13.2->-r requirements.txt (line 10)) (1.16.0)\n",
            "Requirement already satisfied: h5py in /usr/local/lib/python3.10/dist-packages (from h5netcdf>=1.0.2->arviz==0.16.1->-r requirements.txt (line 13)) (3.9.0)\n",
            "Requirement already satisfied: pytz>=2020.1 in /usr/local/lib/python3.10/dist-packages (from pandas>=1.1.0->geopandas==0.13.2->-r requirements.txt (line 10)) (2023.3)\n",
            "Requirement already satisfied: markdown-it-py>=2.2.0 in /usr/local/lib/python3.10/dist-packages (from rich>=11.1->flax==0.6.11->-r requirements.txt (line 4)) (3.0.0)\n",
            "Requirement already satisfied: pygments<3.0.0,>=2.13.0 in /usr/local/lib/python3.10/dist-packages (from rich>=11.1->flax==0.6.11->-r requirements.txt (line 4)) (2.16.1)\n",
            "Requirement already satisfied: importlib_resources in /usr/local/lib/python3.10/dist-packages (from etils[epath,epy]->orbax-checkpoint==0.2.7->-r requirements.txt (line 9)) (6.0.1)\n",
            "Requirement already satisfied: zipp in /usr/local/lib/python3.10/dist-packages (from etils[epath,epy]->orbax-checkpoint==0.2.7->-r requirements.txt (line 9)) (3.16.2)\n",
            "Requirement already satisfied: ipython-genutils in /usr/local/lib/python3.10/dist-packages (from ipykernel->jupyter==1.0.0->-r requirements.txt (line 7)) (0.2.0)\n",
            "Requirement already satisfied: ipython>=5.0.0 in /usr/local/lib/python3.10/dist-packages (from ipykernel->jupyter==1.0.0->-r requirements.txt (line 7)) (7.34.0)\n",
            "Requirement already satisfied: traitlets>=4.1.0 in /usr/local/lib/python3.10/dist-packages (from ipykernel->jupyter==1.0.0->-r requirements.txt (line 7)) (5.7.1)\n",
            "Requirement already satisfied: jupyter-client in /usr/local/lib/python3.10/dist-packages (from ipykernel->jupyter==1.0.0->-r requirements.txt (line 7)) (6.1.12)\n",
            "Requirement already satisfied: tornado>=4.2 in /usr/local/lib/python3.10/dist-packages (from ipykernel->jupyter==1.0.0->-r requirements.txt (line 7)) (6.3.1)\n",
            "Requirement already satisfied: widgetsnbextension~=3.6.0 in /usr/local/lib/python3.10/dist-packages (from ipywidgets->jupyter==1.0.0->-r requirements.txt (line 7)) (3.6.5)\n",
            "Requirement already satisfied: jupyterlab-widgets>=1.0.0 in /usr/local/lib/python3.10/dist-packages (from ipywidgets->jupyter==1.0.0->-r requirements.txt (line 7)) (3.0.8)\n",
            "Requirement already satisfied: MarkupSafe>=2.0 in /usr/local/lib/python3.10/dist-packages (from jinja2->torch==2.0.1->-r requirements.txt (line 6)) (2.1.3)\n",
            "Requirement already satisfied: prompt-toolkit!=3.0.0,!=3.0.1,<3.1.0,>=2.0.0 in /usr/local/lib/python3.10/dist-packages (from jupyter-console->jupyter==1.0.0->-r requirements.txt (line 7)) (3.0.39)\n",
            "Requirement already satisfied: lxml in /usr/local/lib/python3.10/dist-packages (from nbconvert->jupyter==1.0.0->-r requirements.txt (line 7)) (4.9.3)\n",
            "Requirement already satisfied: beautifulsoup4 in /usr/local/lib/python3.10/dist-packages (from nbconvert->jupyter==1.0.0->-r requirements.txt (line 7)) (4.11.2)\n",
            "Requirement already satisfied: bleach in /usr/local/lib/python3.10/dist-packages (from nbconvert->jupyter==1.0.0->-r requirements.txt (line 7)) (6.0.0)\n",
            "Requirement already satisfied: defusedxml in /usr/local/lib/python3.10/dist-packages (from nbconvert->jupyter==1.0.0->-r requirements.txt (line 7)) (0.7.1)\n",
            "Requirement already satisfied: entrypoints>=0.2.2 in /usr/local/lib/python3.10/dist-packages (from nbconvert->jupyter==1.0.0->-r requirements.txt (line 7)) (0.4)\n",
            "Requirement already satisfied: jupyter-core>=4.7 in /usr/local/lib/python3.10/dist-packages (from nbconvert->jupyter==1.0.0->-r requirements.txt (line 7)) (5.3.1)\n",
            "Requirement already satisfied: jupyterlab-pygments in /usr/local/lib/python3.10/dist-packages (from nbconvert->jupyter==1.0.0->-r requirements.txt (line 7)) (0.2.2)\n",
            "Requirement already satisfied: mistune<2,>=0.8.1 in /usr/local/lib/python3.10/dist-packages (from nbconvert->jupyter==1.0.0->-r requirements.txt (line 7)) (0.8.4)\n",
            "Requirement already satisfied: nbclient>=0.5.0 in /usr/local/lib/python3.10/dist-packages (from nbconvert->jupyter==1.0.0->-r requirements.txt (line 7)) (0.8.0)\n",
            "Requirement already satisfied: nbformat>=5.1 in /usr/local/lib/python3.10/dist-packages (from nbconvert->jupyter==1.0.0->-r requirements.txt (line 7)) (5.9.2)\n",
            "Requirement already satisfied: pandocfilters>=1.4.1 in /usr/local/lib/python3.10/dist-packages (from nbconvert->jupyter==1.0.0->-r requirements.txt (line 7)) (1.5.0)\n",
            "Requirement already satisfied: tinycss2 in /usr/local/lib/python3.10/dist-packages (from nbconvert->jupyter==1.0.0->-r requirements.txt (line 7)) (1.2.1)\n",
            "Requirement already satisfied: pyzmq>=17 in /usr/local/lib/python3.10/dist-packages (from notebook->jupyter==1.0.0->-r requirements.txt (line 7)) (23.2.1)\n",
            "Requirement already satisfied: argon2-cffi in /usr/local/lib/python3.10/dist-packages (from notebook->jupyter==1.0.0->-r requirements.txt (line 7)) (21.3.0)\n",
            "Requirement already satisfied: Send2Trash>=1.8.0 in /usr/local/lib/python3.10/dist-packages (from notebook->jupyter==1.0.0->-r requirements.txt (line 7)) (1.8.2)\n",
            "Requirement already satisfied: terminado>=0.8.3 in /usr/local/lib/python3.10/dist-packages (from notebook->jupyter==1.0.0->-r requirements.txt (line 7)) (0.17.1)\n",
            "Requirement already satisfied: prometheus-client in /usr/local/lib/python3.10/dist-packages (from notebook->jupyter==1.0.0->-r requirements.txt (line 7)) (0.17.1)\n",
            "Collecting qtpy>=2.0.1 (from qtconsole->jupyter==1.0.0->-r requirements.txt (line 7))\n",
            "  Downloading QtPy-2.3.1-py3-none-any.whl (84 kB)\n",
            "\u001b[2K     \u001b[90m━━━━━━━━━━━━━━━━━━━━━━━━━━━━━━━━━━━━━━━━\u001b[0m \u001b[32m84.9/84.9 kB\u001b[0m \u001b[31m9.8 MB/s\u001b[0m eta \u001b[36m0:00:00\u001b[0m\n",
            "\u001b[?25hRequirement already satisfied: mpmath>=0.19 in /usr/local/lib/python3.10/dist-packages (from sympy->torch==2.0.1->-r requirements.txt (line 6)) (1.3.0)\n",
            "Collecting jedi>=0.16 (from ipython>=5.0.0->ipykernel->jupyter==1.0.0->-r requirements.txt (line 7))\n",
            "  Downloading jedi-0.19.0-py2.py3-none-any.whl (1.6 MB)\n",
            "\u001b[2K     \u001b[90m━━━━━━━━━━━━━━━━━━━━━━━━━━━━━━━━━━━━━━━━\u001b[0m \u001b[32m1.6/1.6 MB\u001b[0m \u001b[31m49.2 MB/s\u001b[0m eta \u001b[36m0:00:00\u001b[0m\n",
            "\u001b[?25hRequirement already satisfied: decorator in /usr/local/lib/python3.10/dist-packages (from ipython>=5.0.0->ipykernel->jupyter==1.0.0->-r requirements.txt (line 7)) (4.4.2)\n",
            "Requirement already satisfied: pickleshare in /usr/local/lib/python3.10/dist-packages (from ipython>=5.0.0->ipykernel->jupyter==1.0.0->-r requirements.txt (line 7)) (0.7.5)\n",
            "Requirement already satisfied: backcall in /usr/local/lib/python3.10/dist-packages (from ipython>=5.0.0->ipykernel->jupyter==1.0.0->-r requirements.txt (line 7)) (0.2.0)\n",
            "Requirement already satisfied: matplotlib-inline in /usr/local/lib/python3.10/dist-packages (from ipython>=5.0.0->ipykernel->jupyter==1.0.0->-r requirements.txt (line 7)) (0.1.6)\n",
            "Requirement already satisfied: pexpect>4.3 in /usr/local/lib/python3.10/dist-packages (from ipython>=5.0.0->ipykernel->jupyter==1.0.0->-r requirements.txt (line 7)) (4.8.0)\n",
            "Requirement already satisfied: platformdirs>=2.5 in /usr/local/lib/python3.10/dist-packages (from jupyter-core>=4.7->nbconvert->jupyter==1.0.0->-r requirements.txt (line 7)) (3.10.0)\n",
            "Requirement already satisfied: mdurl~=0.1 in /usr/local/lib/python3.10/dist-packages (from markdown-it-py>=2.2.0->rich>=11.1->flax==0.6.11->-r requirements.txt (line 4)) (0.1.2)\n",
            "Requirement already satisfied: fastjsonschema in /usr/local/lib/python3.10/dist-packages (from nbformat>=5.1->nbconvert->jupyter==1.0.0->-r requirements.txt (line 7)) (2.18.0)\n",
            "Requirement already satisfied: jsonschema>=2.6 in /usr/local/lib/python3.10/dist-packages (from nbformat>=5.1->nbconvert->jupyter==1.0.0->-r requirements.txt (line 7)) (4.19.0)\n",
            "Requirement already satisfied: wcwidth in /usr/local/lib/python3.10/dist-packages (from prompt-toolkit!=3.0.0,!=3.0.1,<3.1.0,>=2.0.0->jupyter-console->jupyter==1.0.0->-r requirements.txt (line 7)) (0.2.6)\n",
            "Requirement already satisfied: ptyprocess in /usr/local/lib/python3.10/dist-packages (from terminado>=0.8.3->notebook->jupyter==1.0.0->-r requirements.txt (line 7)) (0.7.0)\n",
            "Requirement already satisfied: argon2-cffi-bindings in /usr/local/lib/python3.10/dist-packages (from argon2-cffi->notebook->jupyter==1.0.0->-r requirements.txt (line 7)) (21.2.0)\n",
            "Requirement already satisfied: soupsieve>1.2 in /usr/local/lib/python3.10/dist-packages (from beautifulsoup4->nbconvert->jupyter==1.0.0->-r requirements.txt (line 7)) (2.4.1)\n",
            "Requirement already satisfied: webencodings in /usr/local/lib/python3.10/dist-packages (from bleach->nbconvert->jupyter==1.0.0->-r requirements.txt (line 7)) (0.5.1)\n",
            "Requirement already satisfied: parso<0.9.0,>=0.8.3 in /usr/local/lib/python3.10/dist-packages (from jedi>=0.16->ipython>=5.0.0->ipykernel->jupyter==1.0.0->-r requirements.txt (line 7)) (0.8.3)\n",
            "Requirement already satisfied: jsonschema-specifications>=2023.03.6 in /usr/local/lib/python3.10/dist-packages (from jsonschema>=2.6->nbformat>=5.1->nbconvert->jupyter==1.0.0->-r requirements.txt (line 7)) (2023.7.1)\n",
            "Requirement already satisfied: referencing>=0.28.4 in /usr/local/lib/python3.10/dist-packages (from jsonschema>=2.6->nbformat>=5.1->nbconvert->jupyter==1.0.0->-r requirements.txt (line 7)) (0.30.2)\n",
            "Requirement already satisfied: rpds-py>=0.7.1 in /usr/local/lib/python3.10/dist-packages (from jsonschema>=2.6->nbformat>=5.1->nbconvert->jupyter==1.0.0->-r requirements.txt (line 7)) (0.9.2)\n",
            "Requirement already satisfied: cffi>=1.0.1 in /usr/local/lib/python3.10/dist-packages (from argon2-cffi-bindings->argon2-cffi->notebook->jupyter==1.0.0->-r requirements.txt (line 7)) (1.15.1)\n",
            "Requirement already satisfied: pycparser in /usr/local/lib/python3.10/dist-packages (from cffi>=1.0.1->argon2-cffi-bindings->argon2-cffi->notebook->jupyter==1.0.0->-r requirements.txt (line 7)) (2.21)\n",
            "Building wheels for collected packages: jax\n",
            "  Building wheel for jax (pyproject.toml) ... \u001b[?25l\u001b[?25hdone\n",
            "  Created wheel for jax: filename=jax-0.4.13-py3-none-any.whl size=1518704 sha256=06dbc6ff6e6bd2ed4b1f1ff18c8cd20c46bea62f1ff94e75b0b39ccb9c3565f3\n",
            "  Stored in directory: /root/.cache/pip/wheels/f3/7a/25/f297f69029b5e4064e4736a0c4b3996a44cc27781c120bcb99\n",
            "Successfully built jax\n",
            "Installing collected packages: qtpy, numpy, jedi, dill, jaxlib, jax, qtconsole, orbax-checkpoint, numpyro, optax, arviz, flax, jupyter\n",
            "  Attempting uninstall: numpy\n",
            "    Found existing installation: numpy 1.23.5\n",
            "    Uninstalling numpy-1.23.5:\n",
            "      Successfully uninstalled numpy-1.23.5\n",
            "  Attempting uninstall: jaxlib\n",
            "    Found existing installation: jaxlib 0.4.14+cuda11.cudnn86\n",
            "    Uninstalling jaxlib-0.4.14+cuda11.cudnn86:\n",
            "      Successfully uninstalled jaxlib-0.4.14+cuda11.cudnn86\n",
            "  Attempting uninstall: jax\n",
            "    Found existing installation: jax 0.4.14\n",
            "    Uninstalling jax-0.4.14:\n",
            "      Successfully uninstalled jax-0.4.14\n",
            "  Attempting uninstall: orbax-checkpoint\n",
            "    Found existing installation: orbax-checkpoint 0.3.2\n",
            "    Uninstalling orbax-checkpoint-0.3.2:\n",
            "      Successfully uninstalled orbax-checkpoint-0.3.2\n",
            "  Attempting uninstall: optax\n",
            "    Found existing installation: optax 0.1.7\n",
            "    Uninstalling optax-0.1.7:\n",
            "      Successfully uninstalled optax-0.1.7\n",
            "  Attempting uninstall: arviz\n",
            "    Found existing installation: arviz 0.15.1\n",
            "    Uninstalling arviz-0.15.1:\n",
            "      Successfully uninstalled arviz-0.15.1\n",
            "  Attempting uninstall: flax\n",
            "    Found existing installation: flax 0.7.2\n",
            "    Uninstalling flax-0.7.2:\n",
            "      Successfully uninstalled flax-0.7.2\n",
            "\u001b[31mERROR: pip's dependency resolver does not currently take into account all the packages that are installed. This behaviour is the source of the following dependency conflicts.\n",
            "numba 0.56.4 requires numpy<1.24,>=1.18, but you have numpy 1.25.1 which is incompatible.\n",
            "tensorflow 2.12.0 requires numpy<1.24,>=1.22, but you have numpy 1.25.1 which is incompatible.\u001b[0m\u001b[31m\n",
            "\u001b[0mSuccessfully installed arviz-0.16.1 dill-0.3.6 flax-0.6.11 jax-0.4.13 jaxlib-0.4.13 jedi-0.19.0 jupyter-1.0.0 numpy-1.25.1 numpyro-0.12.1 optax-0.1.5 orbax-checkpoint-0.2.7 qtconsole-5.4.3 qtpy-2.3.1\n"
          ]
        },
        {
          "output_type": "display_data",
          "data": {
            "application/vnd.colab-display-data+json": {
              "pip_warning": {
                "packages": [
                  "numpy"
                ]
              }
            }
          },
          "metadata": {}
        }
      ]
    },
    {
      "cell_type": "code",
      "source": [
        "!pip install pyreadr"
      ],
      "metadata": {
        "colab": {
          "base_uri": "https://localhost:8080/"
        },
        "id": "Cwmq-AAWdJ4W",
        "outputId": "bdada5a4-3bd1-46a3-c34d-949afda72ca3"
      },
      "execution_count": null,
      "outputs": [
        {
          "output_type": "stream",
          "name": "stdout",
          "text": [
            "Collecting pyreadr\n",
            "  Downloading pyreadr-0.4.9-cp310-cp310-manylinux_2_17_x86_64.manylinux2014_x86_64.whl (434 kB)\n",
            "\u001b[2K     \u001b[90m━━━━━━━━━━━━━━━━━━━━━━━━━━━━━━━━━━━━━━━\u001b[0m \u001b[32m434.8/434.8 kB\u001b[0m \u001b[31m1.6 MB/s\u001b[0m eta \u001b[36m0:00:00\u001b[0m\n",
            "\u001b[?25hRequirement already satisfied: pandas>=1.2.0 in /usr/local/lib/python3.10/dist-packages (from pyreadr) (1.5.3)\n",
            "Requirement already satisfied: python-dateutil>=2.8.1 in /usr/local/lib/python3.10/dist-packages (from pandas>=1.2.0->pyreadr) (2.8.2)\n",
            "Requirement already satisfied: pytz>=2020.1 in /usr/local/lib/python3.10/dist-packages (from pandas>=1.2.0->pyreadr) (2023.3)\n",
            "Requirement already satisfied: numpy>=1.21.0 in /usr/local/lib/python3.10/dist-packages (from pandas>=1.2.0->pyreadr) (1.25.1)\n",
            "Requirement already satisfied: six>=1.5 in /usr/local/lib/python3.10/dist-packages (from python-dateutil>=2.8.1->pandas>=1.2.0->pyreadr) (1.16.0)\n",
            "Installing collected packages: pyreadr\n",
            "Successfully installed pyreadr-0.4.9\n"
          ]
        }
      ]
    },
    {
      "cell_type": "code",
      "source": [
        "import random as rnd\n",
        "import time\n",
        "\n",
        "import numpy as np\n",
        "import matplotlib.pyplot as plt\n",
        "from matplotlib.axes import Axes\n",
        "from matplotlib.cm import coolwarm\n",
        "import numpyro\n",
        "import numpyro.distributions as dist\n",
        "from numpyro import optim, handlers\n",
        "from numpyro.infer import SVI, Trace_ELBO, MCMC, NUTS, init_to_median, Predictive\n",
        "from numpyro.diagnostics import hpdi\n",
        "numpyro.set_host_device_count(4)\n",
        "import jax\n",
        "import optax\n",
        "from jax import random\n",
        "import jax.numpy as jnp\n",
        "from flax import linen as nn\n",
        "import pandas as pd\n",
        "import pyreadr\n",
        "import seaborn as sns\n",
        "import pickle\n",
        "\n",
        "from priorCVAE.models import MLPEncoder, MLPDecoder, VAE\n",
        "from priorCVAE.priors import GP, SquaredExponential, Matern32, Matern52\n",
        "from priorCVAE.mcmc import run_mcmc_vae, vae_mcmc_inference_model\n",
        "from priorCVAE.datasets import GPDataset\n",
        "from priorCVAE.trainer import VAETrainer\n",
        "from priorCVAE.losses import SquaredSumAndKL\n",
        "\n",
        "import jax.config as config\n",
        "config.update(\"jax_enable_x64\", True)"
      ],
      "metadata": {
        "id": "6CliWhBI_3ft"
      },
      "execution_count": null,
      "outputs": []
    },
    {
      "cell_type": "code",
      "source": [
        "# Configuration dictionary\n",
        "args = {\n",
        "        \"conditional\": False,\n",
        "\n",
        "        # data\n",
        "        \"x_dim\": 2,\n",
        "        \"n_data\": 44,\n",
        "\n",
        "        # architecture\n",
        "        \"input_dim\" : 625,\n",
        "        \"hidden_dim\": 60,\n",
        "        \"activation_fn\": nn.leaky_relu,\n",
        "        \"latent_dim\": 40,\n",
        "\n",
        "        # VAE training\n",
        "        \"batch_size\": 500,\n",
        "        \"num_iterations\": 2000,\n",
        "        \"learning_rate\": 1e-3,\n",
        "        \"vae_var\": 1.,\n",
        "       }"
      ],
      "metadata": {
        "id": "GLQF-p36Bgig"
      },
      "execution_count": null,
      "outputs": []
    },
    {
      "cell_type": "code",
      "source": [
        "iamaway = 0\n",
        "while (iamaway == 0):\n",
        "  iamaway = 0"
      ],
      "metadata": {
        "colab": {
          "base_uri": "https://localhost:8080/",
          "height": 210
        },
        "id": "ADq6v6KgC84j",
        "outputId": "4c6a834e-7552-43ef-b579-dc8b93e1fe58"
      },
      "execution_count": null,
      "outputs": [
        {
          "output_type": "error",
          "ename": "KeyboardInterrupt",
          "evalue": "ignored",
          "traceback": [
            "\u001b[0;31m---------------------------------------------------------------------------\u001b[0m",
            "\u001b[0;31mKeyboardInterrupt\u001b[0m                         Traceback (most recent call last)",
            "\u001b[0;32m<ipython-input-102-bf5e66ea7447>\u001b[0m in \u001b[0;36m<cell line: 2>\u001b[0;34m()\u001b[0m\n\u001b[1;32m      1\u001b[0m \u001b[0miamaway\u001b[0m \u001b[0;34m=\u001b[0m \u001b[0;36m0\u001b[0m\u001b[0;34m\u001b[0m\u001b[0;34m\u001b[0m\u001b[0m\n\u001b[0;32m----> 2\u001b[0;31m \u001b[0;32mwhile\u001b[0m \u001b[0;34m(\u001b[0m\u001b[0miamaway\u001b[0m \u001b[0;34m==\u001b[0m \u001b[0;36m0\u001b[0m\u001b[0;34m)\u001b[0m\u001b[0;34m:\u001b[0m\u001b[0;34m\u001b[0m\u001b[0;34m\u001b[0m\u001b[0m\n\u001b[0m\u001b[1;32m      3\u001b[0m   \u001b[0miamaway\u001b[0m \u001b[0;34m=\u001b[0m \u001b[0;36m0\u001b[0m\u001b[0;34m\u001b[0m\u001b[0;34m\u001b[0m\u001b[0m\n",
            "\u001b[0;31mKeyboardInterrupt\u001b[0m: "
          ]
        }
      ]
    },
    {
      "cell_type": "markdown",
      "source": [
        "Generating GPs"
      ],
      "metadata": {
        "id": "DcGpeeoEdFUH"
      }
    },
    {
      "cell_type": "code",
      "source": [
        "kernel = SquaredExponential()"
      ],
      "metadata": {
        "id": "nlCbhDiZu9Vh"
      },
      "execution_count": null,
      "outputs": []
    },
    {
      "cell_type": "code",
      "source": [
        "gp_data_generator = GPDataset(n_data=args[\"n_data\"], kernel=kernel, sample_lengthscale=False, x_dim = 2)\n",
        "x_test, y_test, ls_test = gp_data_generator.simulatedata(n_samples=10)\n",
        "fig, ax = plt.subplots(nrows=1, ncols=1, subplot_kw={\"projection\": \"3d\"})\n",
        "\n",
        "x = jnp.linspace(0, 1, args['n_data'])\n",
        "x1, x2 = jnp.meshgrid(x, x)\n",
        "\n",
        "ax.plot_surface(x1, x2, y_test.reshape(-1,args['n_data'],args['n_data'])[0], cmap=coolwarm)\n",
        "ax.set_title(\"Example $f$\")"
      ],
      "metadata": {
        "colab": {
          "base_uri": "https://localhost:8080/",
          "height": 475
        },
        "id": "9PzmN03EDG97",
        "outputId": "395576c9-6ae7-4467-c5d0-6407c72960eb"
      },
      "execution_count": null,
      "outputs": [
        {
          "output_type": "stream",
          "name": "stderr",
          "text": [
            "WARNING:jax._src.xla_bridge:No GPU/TPU found, falling back to CPU. (Set TF_CPP_MIN_LOG_LEVEL=0 and rerun for more info.)\n"
          ]
        },
        {
          "output_type": "execute_result",
          "data": {
            "text/plain": [
              "Text(0.5, 0.92, 'Example $f$')"
            ]
          },
          "metadata": {},
          "execution_count": 4
        },
        {
          "output_type": "display_data",
          "data": {
            "text/plain": [
              "<Figure size 640x480 with 1 Axes>"
            ],
            "image/png": "[encoded data removed]"
          },
          "metadata": {}
        }
      ]
    },
    {
      "cell_type": "markdown",
      "source": [
        "Data cleaning for inference"
      ],
      "metadata": {
        "id": "IyLFZSq_dCVD"
      }
    },
    {
      "cell_type": "code",
      "source": [
        "covimod = pyreadr.read_r('pop.Rdata')['pop_df']"
      ],
      "metadata": {
        "id": "VTvKkZYAavh0"
      },
      "execution_count": null,
      "outputs": []
    },
    {
      "cell_type": "code",
      "source": [
        "covimod = covimod.to_numpy()\n",
        "pop_matrix = np.zeros((44, 44))"
      ],
      "metadata": {
        "id": "03y-QG3rdQbd"
      },
      "execution_count": null,
      "outputs": []
    },
    {
      "cell_type": "code",
      "source": [
        "for i in range(44):\n",
        "  for j in range(44):\n",
        "    pop_matrix[i][j] = covimod[107+i][2]\n",
        "logP = np.log(pop_matrix)\n",
        "logP = jnp.asarray(logP)\n",
        "args['logP'] = logP"
      ],
      "metadata": {
        "id": "5b7Dqvxsdcdh"
      },
      "execution_count": null,
      "outputs": []
    },
    {
      "cell_type": "code",
      "source": [
        "old_intensity = pyreadr.read_r('data.rds')[None]"
      ],
      "metadata": {
        "id": "xu0MKsVGdmBO"
      },
      "execution_count": null,
      "outputs": []
    },
    {
      "cell_type": "code",
      "source": [
        "def data_cut(dt):\n",
        "  \"\"\"\n",
        "  Inputs:\n",
        "  dt = pandas dataframe including all the gender interactions\n",
        "\n",
        "  Outputs:\n",
        "  dt_MF = pandas dataframe including only the male-female interactions\n",
        "  \"\"\"\n",
        "  dt = dt.to_numpy()\n",
        "  dt_MF = dt #Dataset only with contact intensities between males and females\n",
        "  dt_MF_list = []\n",
        "  for contact in dt_MF:\n",
        "    if contact[1] == 'Female' and contact[4] == 'Male': #Male to female contacts\n",
        "      contact = np.delete(contact, 1)\n",
        "      contact = np.delete(contact, 3)\n",
        "      dt_MF_list.append(contact)\n",
        "  dt_MF = np.array(dt_MF_list)\n",
        "  dt_MF = pd.DataFrame(dt_MF, columns = ['alter_age', 'age', 'cntct_intensity', 'cntct_rate', 'pop'], dtype = float)\n",
        "\n",
        "  return dt_MF"
      ],
      "metadata": {
        "id": "rkGhtKMSgw4T"
      },
      "execution_count": null,
      "outputs": []
    },
    {
      "cell_type": "code",
      "source": [
        "dt = data_cut(old_intensity)\n",
        "table = dt.pivot(index = 'alter_age', columns = 'age', values = 'cntct_intensity')\n",
        "ax = sns.heatmap(table)\n",
        "ax.invert_yaxis()\n",
        "plt.show()"
      ],
      "metadata": {
        "colab": {
          "base_uri": "https://localhost:8080/",
          "height": 466
        },
        "id": "xjUM5AMEg3Y-",
        "outputId": "286a98de-1d36-446b-ee31-071a1a646e1e"
      },
      "execution_count": null,
      "outputs": [
        {
          "output_type": "display_data",
          "data": {
            "text/plain": [
              "<Figure size 640x480 with 2 Axes>"
            ],
            "image/png": "[encoded data removed]"
          },
          "metadata": {}
        }
      ]
    },
    {
      "cell_type": "code",
      "source": [
        "m = np.asarray(table)"
      ],
      "metadata": {
        "id": "fRyP8RlqhPhn"
      },
      "execution_count": null,
      "outputs": []
    },
    {
      "cell_type": "code",
      "source": [
        "old_participants = pyreadr.read_r('dt.rds')['dt']\n",
        "def participants_matrix(dt):\n",
        "  \"\"\"\n",
        "  Inputs:\n",
        "  dt = pandas dataframe including all the gender interactions\n",
        "\n",
        "  Outputs:\n",
        "  dt_MF = pandas dataframe including number of male participants by age\n",
        "  \"\"\"\n",
        "  dt = dt.to_numpy()\n",
        "  dt_MF = dt #Dataset only with contact intensities between males and females\n",
        "  dt_MF_list = []\n",
        "  for contact in dt_MF:\n",
        "    if contact[1] == 'Male' and contact[3] == 'Female': #Male to female contacts\n",
        "      contact = np.delete(contact, 1)\n",
        "      contact = np.delete(contact, 2)\n",
        "      contact = np.delete(contact, 2)\n",
        "      contact = np.delete(contact, 2)\n",
        "      contact = np.delete(contact, 2)\n",
        "      contact = np.delete(contact, 2)\n",
        "      contact = np.delete(contact, 1)\n",
        "      dt_MF_list.append(contact)\n",
        "  dt_MF = np.array(dt_MF_list)\n",
        "  dt_MF = pd.DataFrame(dt_MF, columns = ['age', 'part'], dtype = float)\n",
        "  dt_MF = dt_MF.drop_duplicates()\n",
        "\n",
        "  return dt_MF\n",
        "\n",
        "part = np.asarray(participants_matrix(old_participants))\n",
        "part_matrix = np.zeros((44, 44))\n",
        "\n",
        "for i in range(44):\n",
        "  for j in range(44):\n",
        "    part_matrix[i][j] = part[j][1]\n",
        "\n",
        "logN = jnp.log(jnp.asarray(part_matrix))\n",
        "args['logN'] = logN\n",
        "\n",
        "y = np.floor(np.multiply(m, part_matrix))"
      ],
      "metadata": {
        "id": "HD7EWc3JhBrn"
      },
      "execution_count": null,
      "outputs": []
    },
    {
      "cell_type": "code",
      "source": [
        "y"
      ],
      "metadata": {
        "colab": {
          "base_uri": "https://localhost:8080/"
        },
        "id": "FsOlyU_Si5DW",
        "outputId": "b55f731f-83bc-4912-fa6a-5aa8c858043c"
      },
      "execution_count": null,
      "outputs": [
        {
          "output_type": "execute_result",
          "data": {
            "text/plain": [
              "array([[0., 0., 0., ..., 0., 0., 0.],\n",
              "       [0., 0., 0., ..., 0., 0., 0.],\n",
              "       [0., 0., 0., ..., 0., 0., 0.],\n",
              "       ...,\n",
              "       [0., 0., 0., ..., 8., 7., 6.],\n",
              "       [0., 0., 0., ..., 7., 8., 7.],\n",
              "       [0., 0., 0., ..., 6., 7., 8.]])"
            ]
          },
          "metadata": {},
          "execution_count": 33
        }
      ]
    },
    {
      "cell_type": "markdown",
      "source": [
        "Defining MCMC"
      ],
      "metadata": {
        "id": "7tiijTjShkb8"
      }
    },
    {
      "cell_type": "code",
      "source": [
        "kernel = SquaredExponential(lengthscale = 0.3, variance = 1)"
      ],
      "metadata": {
        "id": "uFiGAFfju-fn"
      },
      "execution_count": null,
      "outputs": []
    },
    {
      "cell_type": "code",
      "source": [
        "x = [jnp.array((i, j)) for i in jnp.arange(0, 1, 1/args['n_data']) for j in jnp.arange(0, 1, 1/args['n_data'])]\n",
        "x = jnp.asarray(x, dtype = np.float32)"
      ],
      "metadata": {
        "id": "kCTXXJOivlSB"
      },
      "execution_count": null,
      "outputs": []
    },
    {
      "cell_type": "code",
      "source": [
        "k = kernel(x, x)\n",
        "k += (1e-4)*jnp.eye(x.shape[0])"
      ],
      "metadata": {
        "id": "kIfEdTyrwWxW"
      },
      "execution_count": null,
      "outputs": []
    },
    {
      "cell_type": "code",
      "source": [
        "np.linalg.cholesky(k)"
      ],
      "metadata": {
        "colab": {
          "base_uri": "https://localhost:8080/"
        },
        "id": "wFV98g9BARWi",
        "outputId": "c8ba98fe-5dec-4cb2-e0dc-46848e1f9612"
      },
      "execution_count": null,
      "outputs": [
        {
          "output_type": "execute_result",
          "data": {
            "text/plain": [
              "array([[1.00010000e+00, 0.00000000e+00, 0.00000000e+00, ...,\n",
              "        0.00000000e+00, 0.00000000e+00, 0.00000000e+00],\n",
              "       [9.97134509e-01, 7.69596549e-02, 0.00000000e+00, ...,\n",
              "        0.00000000e+00, 0.00000000e+00, 0.00000000e+00],\n",
              "       [9.88587223e-01, 1.49166349e-01, 2.53913341e-02, ...,\n",
              "        0.00000000e+00, 0.00000000e+00, 0.00000000e+00],\n",
              "       ...,\n",
              "       [3.98772166e-05, 1.37137614e-04, 1.27675907e-04, ...,\n",
              "        1.11241287e-02, 0.00000000e+00, 0.00000000e+00],\n",
              "       [3.14257273e-05, 1.11038534e-04, 1.05810748e-04, ...,\n",
              "        2.41297766e-03, 1.14236339e-02, 0.00000000e+00],\n",
              "       [2.46237237e-05, 8.93416867e-05, 8.71042284e-05, ...,\n",
              "        3.00674809e-03, 3.77851998e-03, 1.20328043e-02]])"
            ]
          },
          "metadata": {},
          "execution_count": 177
        }
      ]
    },
    {
      "cell_type": "code",
      "source": [
        "def contact_model_VAE(args, y = None):\n",
        "\n",
        "  P = args['logP']\n",
        "  N = args['logN']\n",
        "\n",
        "  f = numpyro.sample(\"f\", dist.MultivariateNormal(loc=jnp.zeros(x.shape[0]), covariance_matrix = k)).reshape((args['n_data'], args['n_data']))\n",
        "\n",
        "  b0 = numpyro.sample('b0', dist.Normal(0, 10))\n",
        "  v = numpyro.sample('v', dist.Exponential(1))\n",
        "  tau = numpyro.sample('tau', dist.Normal(0, 2))\n",
        "\n",
        "  lu = b0 + tau + f + P + N\n",
        "  u = jnp.exp(lu)\n",
        "  a = u/v\n",
        "\n",
        "  #with handlers.block():\n",
        "  if y is None:\n",
        "    numpyro.sample(\"y_pred\", dist.GammaPoisson(a, v/(1+v)))\n",
        "  else:\n",
        "    numpyro.sample(\"y\", dist.GammaPoisson(a, v/(1+v)), obs=y)"
      ],
      "metadata": {
        "id": "vB-Giqoehclk"
      },
      "execution_count": null,
      "outputs": []
    },
    {
      "cell_type": "code",
      "source": [
        "rng_key, rng_key_predict = random.split(random.PRNGKey(6))\n",
        "\n",
        "# inference\n",
        "start = time.time()\n",
        "Kernel = NUTS(contact_model_VAE)\n",
        "mcmc_vae = MCMC(Kernel, num_warmup=500, num_samples=500, num_chains = 1, thinning = 3)\n",
        "mcmc_vae.run(rng_key, args, y = y),\n",
        "t_elapsed = time.time() - start\n",
        "\n",
        "prev_samples = mcmc_vae.get_samples()\n",
        "#mcmc.print_summary()"
      ],
      "metadata": {
        "colab": {
          "base_uri": "https://localhost:8080/"
        },
        "id": "84XitRZWiOzv",
        "outputId": "4fd74075-863f-4496-8f78-fd3497121404"
      },
      "execution_count": null,
      "outputs": [
        {
          "output_type": "stream",
          "name": "stderr",
          "text": [
            "sample: 100%|██████████| 1000/1000 [37:10<00:00,  2.23s/it, 255 steps of size 1.09e-02. acc. prob=0.94]\n"
          ]
        }
      ]
    },
    {
      "cell_type": "code",
      "source": [
        "prev_samples"
      ],
      "metadata": {
        "colab": {
          "base_uri": "https://localhost:8080/"
        },
        "id": "9I7TQc55rPqb",
        "outputId": "22c1cac7-4b30-4941-e739-74008e954e62"
      },
      "execution_count": null,
      "outputs": [
        {
          "output_type": "execute_result",
          "data": {
            "text/plain": [
              "{'b0': Array([-12.78602956,  -9.20104464, -11.61233381, -12.76674125,\n",
              "        -16.10235222, -10.64724705, -11.2990236 , -17.32716241,\n",
              "        -14.38280098, -14.82957521, -17.01104586, -16.68847739,\n",
              "        -13.4367129 , -12.06610954, -16.58792722, -16.1485592 ,\n",
              "        -13.58743024,  -9.04166773, -12.58337109, -14.39709322,\n",
              "        -15.70415933, -14.62388209, -11.80041338, -11.89128563,\n",
              "        -15.95298872, -15.58750583, -12.49551955, -15.97198001,\n",
              "        -15.5981952 , -14.19195412, -14.22764364, -12.503228  ,\n",
              "        -12.52048615, -14.46223013, -12.38097705, -11.13705614,\n",
              "        -13.76070878, -14.77960291, -12.38398525, -14.91996901,\n",
              "        -13.94524397, -15.74728842, -13.13424762, -13.61745722,\n",
              "        -11.39614941, -13.10352936, -13.95766354,  -9.64715551,\n",
              "        -12.95154435, -14.85345334, -14.72837016, -14.82912239,\n",
              "        -13.99241562, -13.71907065, -12.22011453, -12.96559703,\n",
              "        -15.33247878, -17.90489742, -12.12163809, -12.52225514,\n",
              "        -15.66547936, -12.2114148 , -12.75841751, -17.39821263,\n",
              "        -15.42830001, -11.86869975, -12.64476561, -13.37064003,\n",
              "        -15.36205401, -16.54125403, -12.47659197, -15.5798448 ,\n",
              "        -11.13726115, -13.92413462, -12.53853603, -12.83308241,\n",
              "        -14.36582944, -14.63769533, -15.89594273, -16.14975916,\n",
              "        -16.82971274, -15.26069461, -14.44777156, -15.98842115,\n",
              "        -16.70580035, -13.78837557, -11.19187229, -14.64697888,\n",
              "        -14.68224702, -10.49983804, -11.12987596, -14.1257356 ,\n",
              "        -15.5166258 , -13.40426412, -13.58365402, -17.02461527,\n",
              "        -16.74278098, -14.43676316, -11.82546717, -13.56425045,\n",
              "        -11.32689347, -14.81245522, -14.88638793, -12.73932672,\n",
              "        -11.14438364, -10.04685945, -13.77454336, -13.05436794,\n",
              "        -13.23850243, -12.70306009, -12.93345204, -11.94846088,\n",
              "        -13.18145226, -15.07894546, -13.79299171, -13.57680903,\n",
              "        -12.13885746, -13.5682612 , -14.45441752, -13.17303104,\n",
              "        -13.16191733, -10.88918788, -13.92148836, -13.17356077,\n",
              "        -13.31835895, -10.17085774,  -9.89920045, -15.3503362 ,\n",
              "        -14.42177552, -13.37269761, -15.2698074 , -12.29386637,\n",
              "        -14.44571941, -14.63015223, -13.66063744, -13.19805602,\n",
              "        -18.13472301, -16.06344075, -15.44963042, -17.06720514,\n",
              "        -14.13700255, -13.41873524,  -9.68237089, -19.23913837,\n",
              "        -14.64894812, -13.04787227, -18.04665596, -14.96283875,\n",
              "        -13.00809456, -15.52487039, -14.63338207, -12.96602891,\n",
              "        -14.46770793, -14.91893137, -14.47251175, -14.74266348,\n",
              "        -15.95223187, -15.21349599, -12.5450038 , -14.13087253,\n",
              "        -15.27534924, -14.49462129, -10.81026048, -17.05318049,\n",
              "        -12.83594989, -16.54659919], dtype=float64),\n",
              " 'f': Array([[-0.36608746, -0.31643766, -0.25998731, ...,  1.69481068,\n",
              "          1.77681009,  1.81331898],\n",
              "        [-0.30551766, -0.27466662, -0.20959712, ...,  1.67359468,\n",
              "          1.70151451,  1.71019723],\n",
              "        [-0.36929741, -0.3050913 , -0.23112281, ...,  1.67731731,\n",
              "          1.72749756,  1.73308734],\n",
              "        ...,\n",
              "        [-0.43884323, -0.30626846, -0.19501335, ...,  1.6268057 ,\n",
              "          1.67137411,  1.6744945 ],\n",
              "        [-0.37540698, -0.26953384, -0.16511141, ...,  1.59002989,\n",
              "          1.57539725,  1.52697421],\n",
              "        [-0.40171254, -0.32623724, -0.23042862, ...,  1.58237559,\n",
              "          1.63140475,  1.62093778]], dtype=float64),\n",
              " 'tau': Array([-1.75692413e+00, -5.21304981e+00, -2.22944192e+00, -1.84500973e+00,\n",
              "         2.26506854e+00, -3.42804702e+00, -2.94695436e+00,  2.74991464e+00,\n",
              "        -2.78410486e-02,  5.57386797e-01,  2.32446369e+00,  2.25368122e+00,\n",
              "        -7.16615535e-01, -1.96893449e+00,  2.16798388e+00,  1.75573489e+00,\n",
              "        -1.05494708e+00, -5.30574663e+00, -1.52548679e+00,  4.03605701e-01,\n",
              "         1.59212748e+00,  7.03438451e-01, -2.24801984e+00, -2.65451175e+00,\n",
              "         2.00719901e+00,  1.30789502e+00, -1.52910715e+00,  1.71955515e+00,\n",
              "         1.58858607e+00,  3.94374156e-01,  4.34006861e-01, -1.55059441e+00,\n",
              "        -1.90629721e+00,  1.29888654e-01, -1.83213745e+00, -2.93106825e+00,\n",
              "        -6.87742726e-01,  7.52814714e-01, -2.07281729e+00,  9.42912546e-01,\n",
              "         2.57103276e-01,  1.45337180e+00, -1.14312694e+00, -2.41930345e-01,\n",
              "        -2.64733844e+00, -1.18499942e+00, -1.93690873e-01, -4.20672208e+00,\n",
              "        -1.07840780e+00,  5.56192039e-01,  7.27385855e-01,  9.19471658e-01,\n",
              "        -2.37916565e-01, -6.41623701e-01, -1.67479022e+00, -1.00310377e+00,\n",
              "         1.32892179e+00,  3.41999279e+00, -2.58043818e+00, -1.62389994e+00,\n",
              "         1.18799856e+00, -1.60267442e+00, -1.30824297e+00,  3.21702373e+00,\n",
              "         7.93742140e-01, -2.25777339e+00, -1.59443014e+00, -9.85863255e-01,\n",
              "         1.42929056e+00,  1.96586816e+00, -2.06701351e+00,  1.04706252e+00,\n",
              "        -3.27809081e+00,  1.22694566e-01, -1.17998669e+00, -1.43221588e+00,\n",
              "         4.22039942e-01, -2.30022287e-01,  1.56450203e+00,  1.76035372e+00,\n",
              "         2.74043791e+00,  1.69121103e+00, -7.32983066e-02,  2.43568573e+00,\n",
              "         2.25281186e+00,  1.17641949e-01, -2.80770930e+00,  6.47833417e-01,\n",
              "         9.24541430e-01, -3.78117725e+00, -2.59785123e+00,  1.92981259e-01,\n",
              "         1.04678708e+00, -9.46170318e-01, -4.84752662e-01,  2.70600643e+00,\n",
              "         2.10848637e+00,  1.16049569e-01, -2.52423904e+00, -9.54674254e-01,\n",
              "        -3.33341160e+00,  4.72854515e-01,  6.07109201e-01, -1.22223483e+00,\n",
              "        -2.96689164e+00, -4.45799650e+00, -3.28769557e-01, -9.68184986e-01,\n",
              "        -9.99051964e-01, -1.41194748e+00, -1.26636889e+00, -2.01473656e+00,\n",
              "        -1.32927047e+00,  6.78279789e-01, -3.92984444e-01, -5.49973122e-01,\n",
              "        -1.99188355e+00, -9.04243675e-01, -7.02273337e-02, -8.01759836e-01,\n",
              "        -7.89088269e-01, -3.42736089e+00, -7.78624161e-01, -8.33868827e-01,\n",
              "        -1.39264696e+00, -3.69993413e+00, -4.65855443e+00,  1.34139349e+00,\n",
              "        -1.93263611e-01, -6.68612430e-01,  9.64403221e-01, -2.05171597e+00,\n",
              "         1.69401100e-01,  8.67433970e-01, -4.38956562e-01, -9.94455296e-01,\n",
              "         4.04970073e+00,  1.83161410e+00,  7.30057319e-01,  2.82155762e+00,\n",
              "        -2.86041153e-01, -1.03399677e+00, -4.35220973e+00,  4.76768394e+00,\n",
              "         3.31105332e-01, -1.36411284e+00,  3.67393469e+00,  3.96889181e-01,\n",
              "        -9.93970186e-01,  1.31520909e+00, -3.71146774e-03, -1.09729962e+00,\n",
              "        -7.94241629e-02,  7.71131922e-01,  5.00315938e-01, -1.19459566e-01,\n",
              "         1.67258612e+00,  1.00922064e+00, -1.14425536e+00,  6.16636060e-02,\n",
              "         1.11289538e+00,  1.38120740e-01, -3.58738766e+00,  2.21084144e+00,\n",
              "        -1.22711939e+00,  2.45367877e+00], dtype=float64),\n",
              " 'v': Array([ 6.29670938,  7.17265918, 11.69884437,  5.92515873, 11.8800522 ,\n",
              "         9.61901835,  7.91291094,  5.88878751,  7.22895281,  7.93869064,\n",
              "         5.61700906,  6.89695213,  8.65598165,  9.48292901,  6.98215755,\n",
              "         7.26003243,  5.74233318,  7.58281453,  9.20547487, 10.18696005,\n",
              "         9.35460633, 10.81438507, 10.30528961,  6.32299948, 10.69333604,\n",
              "         8.09051247,  9.97779214,  8.15232671, 10.41228837, 12.52237987,\n",
              "        12.43139342,  9.46000578,  6.94844842,  7.519374  ,  8.59814982,\n",
              "         9.77777482,  6.87131805,  9.92022894,  6.81165682, 10.32984504,\n",
              "        13.59782327,  8.02439937,  7.98665603, 11.55003973,  9.97477016,\n",
              "         7.89975598,  8.81231951, 11.73563572,  9.74011999,  7.84967462,\n",
              "        10.39341503, 10.85413431,  8.38484481,  7.19839503, 11.4976799 ,\n",
              "        10.2759141 , 10.23789142,  6.80668123,  5.39374698,  9.04920328,\n",
              "         6.80272405, 11.97355206,  9.65665099,  8.52206877,  5.71291844,\n",
              "         9.06707957,  8.3857731 ,  7.67479058, 11.12027897,  6.33128366,\n",
              "         6.18176997,  6.27657369,  7.19483822, 12.65357343, 13.63312102,\n",
              "         8.28135842, 10.88511131,  4.86231487,  7.64605666,  7.46771925,\n",
              "         9.54105816, 15.35301938,  6.57612961, 15.2530671 ,  7.38948819,\n",
              "        13.69716081, 10.89344848, 10.38378979, 12.86390903,  7.76600966,\n",
              "        13.0768749 , 11.44862601,  6.74830254,  7.50978802,  9.65356304,\n",
              "         7.51508556,  5.95428989,  8.11517665,  7.73320565,  6.63662324,\n",
              "         5.62180289,  7.65469082,  7.77738196, 11.3544017 ,  9.26323658,\n",
              "         6.41645793,  9.71269926,  9.88291632,  9.19277645, 10.09437624,\n",
              "         8.84251674, 11.44980723,  6.58446114,  6.99090351,  8.79665929,\n",
              "         9.49836909,  9.5536472 ,  6.90533361,  6.61050767, 10.96255339,\n",
              "        10.79000083,  8.19299268,  5.50509558, 11.11991824,  5.58629226,\n",
              "        12.18253997,  6.69248033, 10.15318754,  6.05301323, 10.18929343,\n",
              "         8.54111996,  7.79570328,  8.39138349, 13.50564973,  9.5683088 ,\n",
              "         8.69777707, 10.19736647,  8.48121802,  5.70560464,  8.33875147,\n",
              "         7.46374655,  7.03860538, 10.13628823,  6.6485964 ,  8.0484895 ,\n",
              "         7.30958957,  7.53350325,  6.48865478, 10.7461459 ,  8.63005126,\n",
              "         6.14725722,  9.88268569,  6.64882542,  9.08407667, 10.45393996,\n",
              "         4.82757894,  8.17080949,  9.04817263, 14.49635308,  9.81643456,\n",
              "         9.12403672,  7.930712  ,  7.62991187,  4.91556752,  9.72229698,\n",
              "         9.57487223], dtype=float64)}"
            ]
          },
          "metadata": {},
          "execution_count": 180
        }
      ]
    },
    {
      "cell_type": "code",
      "source": [
        "y_list = []\n",
        "for i in range(len(prev_samples['b0'])):\n",
        "  b0 = prev_samples['b0'][i]\n",
        "  tau = prev_samples['tau'][i]\n",
        "  f = prev_samples['f'][i].reshape((args['n_data'], args['n_data']))\n",
        "  v = prev_samples['v'][i]\n",
        "  lu = f + b0 + logP + tau + logN\n",
        "  u = jnp.exp(lu)\n",
        "  a = u/v\n",
        "  rng_key, rng_key_predict = random.split(random.PRNGKey(2*i))\n",
        "  y_pred = numpyro.sample('y', dist.GammaPoisson(a, v/(1+v)), rng_key = rng_key)\n",
        "  y_list.append(y_pred)\n",
        "y_avg = sum(y_list)/len(y_list)"
      ],
      "metadata": {
        "id": "BdGykm2KiS9I"
      },
      "execution_count": null,
      "outputs": []
    },
    {
      "cell_type": "code",
      "source": [
        "np.mean(np.abs(y_avg-y))"
      ],
      "metadata": {
        "colab": {
          "base_uri": "https://localhost:8080/"
        },
        "id": "IF2yxg7ArC7s",
        "outputId": "50ca689b-90b4-414b-cb18-29b9cc8d8ffe"
      },
      "execution_count": null,
      "outputs": [
        {
          "output_type": "execute_result",
          "data": {
            "text/plain": [
              "0.6225698247535596"
            ]
          },
          "metadata": {},
          "execution_count": 182
        }
      ]
    },
    {
      "cell_type": "code",
      "source": [
        "m_avg = y_avg/part_matrix"
      ],
      "metadata": {
        "id": "rg2ZQFNVfwhJ"
      },
      "execution_count": null,
      "outputs": []
    },
    {
      "cell_type": "code",
      "source": [
        "np.mean(np.abs(m_avg - m))"
      ],
      "metadata": {
        "colab": {
          "base_uri": "https://localhost:8080/"
        },
        "id": "UokfldsG_VFR",
        "outputId": "c7952759-8610-4c3f-c44e-d28c57134f1f"
      },
      "execution_count": null,
      "outputs": [
        {
          "output_type": "execute_result",
          "data": {
            "text/plain": [
              "0.05493529552046784"
            ]
          },
          "metadata": {},
          "execution_count": 184
        }
      ]
    },
    {
      "cell_type": "code",
      "source": [
        "with open('mcmc_result.pkl', 'wb') as f:\n",
        "    pickle.dump(prev_samples, f)"
      ],
      "metadata": {
        "id": "8qYmHKS8_yU9"
      },
      "execution_count": null,
      "outputs": []
    },
    {
      "cell_type": "code",
      "source": [
        "with open('mcmc_result.pkl', 'rb') as f:\n",
        "    prev_samples = pickle.load(f)"
      ],
      "metadata": {
        "id": "KMi0qeRWK25q"
      },
      "execution_count": null,
      "outputs": []
    },
    {
      "cell_type": "code",
      "source": [
        "y_list = []\n",
        "for i in range(len(prev_samples['b0'])):\n",
        "  b0 = prev_samples['b0'][i]\n",
        "  tau = prev_samples['tau'][i]\n",
        "  f = prev_samples['f'][i].reshape((args['n_data'], args['n_data']))\n",
        "  v = prev_samples['v'][i]\n",
        "  lu = f + b0 + logP + tau + logN\n",
        "  u = jnp.exp(lu)\n",
        "  a = u/v\n",
        "  rng_key, rng_key_predict = random.split(random.PRNGKey(2*i))\n",
        "  y_pred = numpyro.sample('y', dist.GammaPoisson(a, v/(1+v)), rng_key = rng_key)\n",
        "  y_list.append(y_pred)\n",
        "y_avg = sum(y_list)/len(y_list)"
      ],
      "metadata": {
        "id": "dRyGQUsEg5a8"
      },
      "execution_count": null,
      "outputs": []
    },
    {
      "cell_type": "code",
      "source": [
        "m_avg = y_avg/part_matrix"
      ],
      "metadata": {
        "id": "NDqt1EpIg_Eh"
      },
      "execution_count": null,
      "outputs": []
    },
    {
      "cell_type": "code",
      "source": [
        "def heatmap2d(arr):\n",
        "    plt.imshow(arr, cmap='viridis')\n",
        "    plt.colorbar()\n",
        "    plt.gca().invert_yaxis()\n",
        "    plt.show()"
      ],
      "metadata": {
        "id": "wPgcP2vvh4qH"
      },
      "execution_count": null,
      "outputs": []
    },
    {
      "cell_type": "code",
      "source": [
        "heatmap2d(m_avg)"
      ],
      "metadata": {
        "colab": {
          "base_uri": "https://localhost:8080/",
          "height": 430
        },
        "id": "4lFEoWSxiMiX",
        "outputId": "f1ba6d4e-9350-4dc1-88b7-755cc6e8b04f"
      },
      "execution_count": null,
      "outputs": [
        {
          "output_type": "display_data",
          "data": {
            "text/plain": [
              "<Figure size 640x480 with 2 Axes>"
            ],
            "image/png": "[encoded data removed]"
          },
          "metadata": {}
        }
      ]
    },
    {
      "cell_type": "code",
      "source": [],
      "metadata": {
        "id": "lokDxReriNr5"
      },
      "execution_count": null,
      "outputs": []
    }
  ]
}